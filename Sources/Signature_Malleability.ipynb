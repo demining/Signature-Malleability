{
  "nbformat": 4,
  "nbformat_minor": 0,
  "metadata": {
    "colab": {
      "provenance": []
    },
    "kernelspec": {
      "name": "python3",
      "display_name": "Python 3"
    },
    "language_info": {
      "name": "python"
    }
  },
  "cells": [
    {
      "cell_type": "code",
      "execution_count": null,
      "metadata": {
        "id": "2qCxZfx012ou",
        "colab": {
          "base_uri": "https://localhost:8080/"
        },
        "outputId": "67280639-b994-4b92-a36a-ddd23ec46550"
      },
      "outputs": [
        {
          "output_type": "stream",
          "name": "stdout",
          "text": [
            "ff\n",
            "ff\n",
            "ff\n",
            "ff\n",
            "ff\n",
            "ff\n",
            "ff\n",
            "ff\n",
            "ff\n",
            "ff\n",
            "ff\n",
            "ff\n",
            "ff\n",
            "ff\n",
            "ff\n",
            "fe\n",
            "ba\n",
            "ae\n",
            "dc\n",
            "e6\n",
            "af\n",
            "48\n",
            "a0\n",
            "3b\n",
            "bf\n",
            "d2\n",
            "5e\n",
            "8c\n",
            "d0\n",
            "36\n",
            "41\n",
            "41\n"
          ]
        }
      ],
      "source": [
        "# The initial value N is the order of the group of points on the elliptic curve\n",
        "hex_value = \"fffffffffffffffffffffffffffffffebaaedce6af48a03bbfd25e8cd0364141\"\n",
        "\n",
        "# Transform to vertical position original value N\n",
        "vertical_hex = [hex_value[i:i+2] for i in range(0, len(hex_value), 2)]\n",
        "\n",
        "# Output the result\n",
        "for hex_pair in vertical_hex:\n",
        "    print(hex_pair)"
      ]
    },
    {
      "cell_type": "markdown",
      "source": [
        "\n",
        "\n",
        "---\n",
        "\n"
      ],
      "metadata": {
        "id": "Qj5Zw_qaIjSQ"
      }
    },
    {
      "cell_type": "code",
      "source": [
        "# Initial value of P - field structure on elliptic curve\n",
        "hex_value = \"fffffffffffffffffffffffffffffffffffffffffffffffffffffffefffffc2f\"\n",
        "\n",
        "# Transform to vertical position original value N\n",
        "vertical_hex = [hex_value[i:i+2] for i in range(0, len(hex_value), 2)]\n",
        "\n",
        "# Output the result\n",
        "for hex_pair in vertical_hex:\n",
        "    print(hex_pair)"
      ],
      "metadata": {
        "colab": {
          "base_uri": "https://localhost:8080/"
        },
        "id": "DZh-NvcgIrBQ",
        "outputId": "527012a7-0258-4c74-bdab-2bd41285a6ea"
      },
      "execution_count": null,
      "outputs": [
        {
          "output_type": "stream",
          "name": "stdout",
          "text": [
            "ff\n",
            "ff\n",
            "ff\n",
            "ff\n",
            "ff\n",
            "ff\n",
            "ff\n",
            "ff\n",
            "ff\n",
            "ff\n",
            "ff\n",
            "ff\n",
            "ff\n",
            "ff\n",
            "ff\n",
            "ff\n",
            "ff\n",
            "ff\n",
            "ff\n",
            "ff\n",
            "ff\n",
            "ff\n",
            "ff\n",
            "ff\n",
            "ff\n",
            "ff\n",
            "ff\n",
            "fe\n",
            "ff\n",
            "ff\n",
            "fc\n",
            "2f\n"
          ]
        }
      ]
    },
    {
      "cell_type": "markdown",
      "source": [
        "\n",
        "\n",
        "---\n",
        "\n"
      ],
      "metadata": {
        "id": "YBEyuR6oI9aL"
      }
    },
    {
      "cell_type": "code",
      "source": [
        "!git clone https://github.com/smartibase/Broadcast-Bitcoin-Transaction.git"
      ],
      "metadata": {
        "colab": {
          "base_uri": "https://localhost:8080/"
        },
        "id": "C6lYWPlIJBTy",
        "outputId": "861ecc15-d1cd-4492-f155-13e56c18df37"
      },
      "execution_count": null,
      "outputs": [
        {
          "output_type": "stream",
          "name": "stdout",
          "text": [
            "Cloning into 'Broadcast-Bitcoin-Transaction'...\n",
            "remote: Enumerating objects: 68, done.\u001b[K\n",
            "remote: Counting objects: 100% (68/68), done.\u001b[K\n",
            "remote: Compressing objects: 100% (66/66), done.\u001b[K\n",
            "remote: Total 68 (delta 23), reused 0 (delta 0), pack-reused 0 (from 0)\u001b[K\n",
            "Receiving objects: 100% (68/68), 23.41 MiB | 11.10 MiB/s, done.\n",
            "Resolving deltas: 100% (23/23), done.\n"
          ]
        }
      ]
    },
    {
      "cell_type": "code",
      "source": [
        "cd Broadcast-Bitcoin-Transaction/"
      ],
      "metadata": {
        "colab": {
          "base_uri": "https://localhost:8080/"
        },
        "id": "2kjSsAxgJGVZ",
        "outputId": "3a76251d-cc3e-4be2-a5c1-79c74275f42a"
      },
      "execution_count": null,
      "outputs": [
        {
          "output_type": "stream",
          "name": "stdout",
          "text": [
            "/content/Broadcast-Bitcoin-Transaction\n"
          ]
        }
      ]
    },
    {
      "cell_type": "code",
      "source": [
        "!python setup.py"
      ],
      "metadata": {
        "colab": {
          "base_uri": "https://localhost:8080/"
        },
        "id": "EfHJ43ItJI9s",
        "outputId": "4ed8bfe2-2319-40db-d1e2-1650557d39b6"
      },
      "execution_count": null,
      "outputs": [
        {
          "output_type": "stream",
          "name": "stdout",
          "text": [
            "Collecting zmq\n",
            "  Downloading zmq-0.0.0.zip (2.2 kB)\n",
            "  Preparing metadata (setup.py) ... \u001b[?25l\u001b[?25hdone\n",
            "Requirement already satisfied: pyzmq in /usr/local/lib/python3.10/dist-packages (from zmq) (24.0.1)\n",
            "Building wheels for collected packages: zmq\n",
            "  Building wheel for zmq (setup.py) ... \u001b[?25l\u001b[?25hdone\n",
            "  Created wheel for zmq: filename=zmq-0.0.0-py3-none-any.whl size=1265 sha256=e9b6fc81b5fe96c22c9523cdacfdcf072d61cc2a1634db186bf818516d2a5aa7\n",
            "  Stored in directory: /root/.cache/pip/wheels/ab/c5/fe/d853f71843cae26c123d37a7a5934baac20fc66f35a913951d\n",
            "Successfully built zmq\n",
            "Installing collected packages: zmq\n",
            "Successfully installed zmq-0.0.0\n",
            "Collecting ecdsa\n",
            "  Downloading ecdsa-0.19.0-py2.py3-none-any.whl.metadata (29 kB)\n",
            "Requirement already satisfied: six>=1.9.0 in /usr/local/lib/python3.10/dist-packages (from ecdsa) (1.16.0)\n",
            "Downloading ecdsa-0.19.0-py2.py3-none-any.whl (149 kB)\n",
            "\u001b[2K   \u001b[90m━━━━━━━━━━━━━━━━━━━━━━━━━━━━━━━━━━━━━━━━\u001b[0m \u001b[32m149.3/149.3 kB\u001b[0m \u001b[31m4.2 MB/s\u001b[0m eta \u001b[36m0:00:00\u001b[0m\n",
            "\u001b[?25hInstalling collected packages: ecdsa\n",
            "Successfully installed ecdsa-0.19.0\n",
            "Requirement already satisfied: urllib3 in /usr/local/lib/python3.10/dist-packages (2.2.3)\n",
            "Requirement already satisfied: requests in /usr/local/lib/python3.10/dist-packages (2.32.3)\n",
            "Requirement already satisfied: charset-normalizer<4,>=2 in /usr/local/lib/python3.10/dist-packages (from requests) (3.4.0)\n",
            "Requirement already satisfied: idna<4,>=2.5 in /usr/local/lib/python3.10/dist-packages (from requests) (3.10)\n",
            "Requirement already satisfied: urllib3<3,>=1.21.1 in /usr/local/lib/python3.10/dist-packages (from requests) (2.2.3)\n",
            "Requirement already satisfied: certifi>=2017.4.17 in /usr/local/lib/python3.10/dist-packages (from requests) (2024.8.30)\n",
            "Collecting pycryptodome\n",
            "  Downloading pycryptodome-3.21.0-cp36-abi3-manylinux_2_17_x86_64.manylinux2014_x86_64.whl.metadata (3.4 kB)\n",
            "Downloading pycryptodome-3.21.0-cp36-abi3-manylinux_2_17_x86_64.manylinux2014_x86_64.whl (2.3 MB)\n",
            "\u001b[2K   \u001b[90m━━━━━━━━━━━━━━━━━━━━━━━━━━━━━━━━━━━━━━━━\u001b[0m \u001b[32m2.3/2.3 MB\u001b[0m \u001b[31m21.5 MB/s\u001b[0m eta \u001b[36m0:00:00\u001b[0m\n",
            "\u001b[?25hInstalling collected packages: pycryptodome\n",
            "Successfully installed pycryptodome-3.21.0\n"
          ]
        }
      ]
    },
    {
      "cell_type": "code",
      "source": [
        "cd decoderaw/"
      ],
      "metadata": {
        "colab": {
          "base_uri": "https://localhost:8080/"
        },
        "id": "HzoNFOrCJVHJ",
        "outputId": "4174fb6f-39d1-4647-ce3e-d2718304129b"
      },
      "execution_count": null,
      "outputs": [
        {
          "output_type": "stream",
          "name": "stdout",
          "text": [
            "/content/Broadcast-Bitcoin-Transaction/decoderaw\n"
          ]
        }
      ]
    },
    {
      "cell_type": "code",
      "source": [
        "!chmod +x decoderaw"
      ],
      "metadata": {
        "id": "PGFAyyLRJXbk"
      },
      "execution_count": null,
      "outputs": []
    },
    {
      "cell_type": "code",
      "source": [
        "ls"
      ],
      "metadata": {
        "colab": {
          "base_uri": "https://localhost:8080/"
        },
        "id": "pEiTgf4yJZYw",
        "outputId": "448bcde1-431d-4987-dcc2-bebeb25690e8"
      },
      "execution_count": null,
      "outputs": [
        {
          "output_type": "stream",
          "name": "stdout",
          "text": [
            "\u001b[0m\u001b[01;32mdecoderaw\u001b[0m*  getrsz.py  ice_secp256k1.dll  ice_secp256k1.so  README.md  secp256k1.py\n"
          ]
        }
      ]
    },
    {
      "cell_type": "code",
      "source": [
        "!./decoderaw"
      ],
      "metadata": {
        "colab": {
          "base_uri": "https://localhost:8080/"
        },
        "id": "U6t8u8roJbgl",
        "outputId": "8e42dd1e-2d6f-4544-cb0f-e577bd2967e5"
      },
      "execution_count": null,
      "outputs": [
        {
          "output_type": "stream",
          "name": "stdout",
          "text": [
            "\n",
            "        ____                      __     ____                \n",
            "       / __ \\___  _________  ____/ /__  / __ \\____ __      __\n",
            "      / / / / _ \\/ ___/ __ \\/ __  / _ \\/ /_/ / __ `/ | /| / /\n",
            "     / /_/ /  __/ /__/ /_/ / /_/ /  __/ _, _/ /_/ /| |/ |/ / \n",
            "    /_____\\/___/\\___/\\____/\\__,_/\\___/_/ |_|\\__,_/ |__/|__/  \n",
            "                                                             \n",
            "        Usage: \n",
            "    \n",
            "         decoderaw <raw_tx>\n",
            "        \n"
          ]
        }
      ]
    },
    {
      "cell_type": "code",
      "source": [
        "!./decoderaw 01000000010dbc696374c8d7ca61f32710e03aaedcb7a4f2428074814d0e1f4f7f5c1e5935000000008b48304502210097255916a3cc4f69d4fa16f68219d0b1798d392fb0dce5fb0a358510df8cabe002201014656120e0a6e7c8c4a79ee22b3cdd4f55435e3e9bf3ab7287ae16858dd9d50141049b4069d8237fae8f2417c71c5512ec1b0547b5597474480cc28ea1bbfeecaab8b90fdec161ad6ef4378f274a60b900452431533596bf3bd23e01202ebf679461ffffffff01d2040000000000001976a914d77522a2b18e0064aba02ca7f864a5bb2299825988ac00000000"
      ],
      "metadata": {
        "colab": {
          "base_uri": "https://localhost:8080/"
        },
        "id": "GpWt57KxJfZ5",
        "outputId": "a6f8f96d-79b1-4b9f-dfbe-5fabee635407"
      },
      "execution_count": null,
      "outputs": [
        {
          "output_type": "stream",
          "name": "stdout",
          "text": [
            "Result:\n",
            "\n",
            "1111,0097255916a3cc4f69d4fa16f68219d0b1798d392fb0dce5fb0a358510df8cabe0,1014656120e0a6e7c8c4a79ee22b3cdd4f55435e3e9bf3ab7287ae16858dd9d5,931a52e8610cf87b6d00875f687042224c305865fd20ecb15ef76b1277ba10fd,0000\n",
            "\n",
            "\n",
            "\n"
          ]
        }
      ]
    },
    {
      "cell_type": "code",
      "source": [
        "cd -"
      ],
      "metadata": {
        "colab": {
          "base_uri": "https://localhost:8080/"
        },
        "id": "oreeaNXLJ-2L",
        "outputId": "acf595d2-3289-4c0b-f56d-9185c1da1c80"
      },
      "execution_count": null,
      "outputs": [
        {
          "output_type": "stream",
          "name": "stdout",
          "text": [
            "/content/Broadcast-Bitcoin-Transaction\n"
          ]
        }
      ]
    },
    {
      "cell_type": "code",
      "source": [
        "ls"
      ],
      "metadata": {
        "colab": {
          "base_uri": "https://localhost:8080/"
        },
        "id": "DirxeXXCKCeF",
        "outputId": "05958982-3e91-441b-b460-4313dd7aeec7"
      },
      "execution_count": null,
      "outputs": [
        {
          "output_type": "stream",
          "name": "stdout",
          "text": [
            "bitcoin_info.py  \u001b[0m\u001b[01;34mdecoderaw\u001b[0m/   merkle_root.py          README.md          secp256k1.py  signing.py\n",
            "block_header.py  decodetx.py  previous_block_hash.py  requirements.txt   setup.py      sign.py\n",
            "\u001b[01;34mdarksignature\u001b[0m/   main.py      pushtx.py               screen_replit.gif  sighash.py    timestamp.py\n"
          ]
        }
      ]
    },
    {
      "cell_type": "code",
      "source": [
        "cd darksignature/"
      ],
      "metadata": {
        "colab": {
          "base_uri": "https://localhost:8080/"
        },
        "id": "2U2g9G8EKE98",
        "outputId": "fd9c41bc-b88d-49e2-835a-5408c2deddba"
      },
      "execution_count": null,
      "outputs": [
        {
          "output_type": "stream",
          "name": "stdout",
          "text": [
            "/content/Broadcast-Bitcoin-Transaction/darksignature\n"
          ]
        }
      ]
    },
    {
      "cell_type": "code",
      "source": [
        "!chmod +x darksignature"
      ],
      "metadata": {
        "id": "bvTZb_msKH2g"
      },
      "execution_count": null,
      "outputs": []
    },
    {
      "cell_type": "code",
      "source": [
        "ls"
      ],
      "metadata": {
        "colab": {
          "base_uri": "https://localhost:8080/"
        },
        "id": "66xPOcBSKLB9",
        "outputId": "5eecb8f9-b918-4fdd-f63b-46a3794dddd0"
      },
      "execution_count": null,
      "outputs": [
        {
          "output_type": "stream",
          "name": "stdout",
          "text": [
            "calculatenonce.py  coordinates.py  \u001b[0m\u001b[01;32mdarksignature\u001b[0m*  README.md  transactions.py\n"
          ]
        }
      ]
    },
    {
      "cell_type": "code",
      "source": [
        "!./darksignature"
      ],
      "metadata": {
        "colab": {
          "base_uri": "https://localhost:8080/"
        },
        "id": "6JkrDrsRKOJI",
        "outputId": "edfb64c2-2cf7-49e4-bd04-d9ba16e36a72"
      },
      "execution_count": null,
      "outputs": [
        {
          "output_type": "stream",
          "name": "stdout",
          "text": [
            "\n",
            "           ____             __   _____ _                   __                \n",
            "          / __ \\____ ______/ /__/ ___/(_)___ _____  ____ _/ /___  __________ \n",
            "         / / / / __ `/ ___/ //_/\\__ \\/ / __ `/ __ \\/ __ `/ __/ / / / ___/ _ \\\n",
            "        / /_/ / /_/ / /  / ,<  ___/ / / /_/ / / / / /_/ / /_/ /_/ / /  /  __/\n",
            "        /_____\\/__,_/_/  /_/|_|/____/_/\\__,_/__/\\_\\__,_/\\__/\\__,_/_/   \\___/ \n",
            "                                     /____/\n",
            "           Usage: \n",
            "       \n",
            "            darksignature -pubkey <Gx Gy>\n",
            "            darksignature -address <Bitcoin Address>\n",
            "            darksignature -privkey <Private Key HEX>\n",
            "            \n",
            "           \n"
          ]
        }
      ]
    },
    {
      "cell_type": "code",
      "source": [
        "!./darksignature -address 1LeEbwu667oPtQC5dKiGiysUjFM3mQaxpw"
      ],
      "metadata": {
        "colab": {
          "base_uri": "https://localhost:8080/"
        },
        "id": "Vwly3PGIKTF0",
        "outputId": "4b111358-10fe-4d91-f108-ccfb73e784f5"
      },
      "execution_count": null,
      "outputs": [
        {
          "output_type": "stream",
          "name": "stdout",
          "text": [
            "pubkey: (HEX) = 049b4069d8237fae8f2417c71c5512ec1b0547b5597474480cc28ea1bbfeecaab8b90fdec161ad6ef4378f274a60b900452431533596bf3bd23e01202ebf679461\n"
          ]
        }
      ]
    },
    {
      "cell_type": "code",
      "source": [
        "pip install ecdsa"
      ],
      "metadata": {
        "colab": {
          "base_uri": "https://localhost:8080/"
        },
        "id": "ZM2MMLFDMekV",
        "outputId": "cf31525c-a3f0-4070-eb69-4197b9c88b41"
      },
      "execution_count": null,
      "outputs": [
        {
          "output_type": "stream",
          "name": "stdout",
          "text": [
            "Requirement already satisfied: ecdsa in /usr/local/lib/python3.10/dist-packages (0.19.0)\n",
            "Requirement already satisfied: six>=1.9.0 in /usr/local/lib/python3.10/dist-packages (from ecdsa) (1.16.0)\n"
          ]
        }
      ]
    },
    {
      "cell_type": "code",
      "source": [
        "# pip install ecdsa\n",
        "\n",
        "from ecdsa import VerifyingKey, SECP256k1\n",
        "import binascii\n",
        "\n",
        "def get_coordinates_from_pubkey(pubkey_hex):\n",
        "    # Convert HEX to bytes\n",
        "    pubkey_bytes = binascii.unhexlify(pubkey_hex)\n",
        "\n",
        "    # Create a VerifyingKey object from the public key\n",
        "    vk = VerifyingKey.from_string(pubkey_bytes, curve=SECP256k1)\n",
        "\n",
        "    # Get the Gx and Gy coordinates\n",
        "    Gx = vk.pubkey.point.x()\n",
        "    Gy = vk.pubkey.point.y()\n",
        "\n",
        "    # Convert the coordinates to HEX format\n",
        "    Gx_hex = format(Gx, 'x').zfill(64) # Fill with zeros up to 64 characters\n",
        "    Gy_hex = format(Gy, 'x').zfill(64) # Fill with zeros up to 64 characters\n",
        "\n",
        "    return Gx_hex, Gy_hex\n",
        "\n",
        "pubkeyhex = \"049b4069d8237fae8f2417c71c5512ec1b0547b5597474480cc28ea1bbfeecaab8b90fdec161ad6ef4378f274a60b900452431533596bf3bd23e01202ebf679461\"\n",
        "\n",
        "Gx, Gy = get_coordinates_from_pubkey(pubkeyhex)\n",
        "\n",
        "print(f\"pubkey: {pubkeyhex}\")\n",
        "print(f\"\")\n",
        "print(f\"(Gx, Gy) = {Gx} {Gy}\")"
      ],
      "metadata": {
        "colab": {
          "base_uri": "https://localhost:8080/"
        },
        "id": "NsxcUyo0ObAG",
        "outputId": "8bbc6897-a995-4e14-9bbc-538ceecf81c4"
      },
      "execution_count": null,
      "outputs": [
        {
          "output_type": "stream",
          "name": "stdout",
          "text": [
            "pubkey: 049b4069d8237fae8f2417c71c5512ec1b0547b5597474480cc28ea1bbfeecaab8b90fdec161ad6ef4378f274a60b900452431533596bf3bd23e01202ebf679461\n",
            "\n",
            "(Gx, Gy) = 9b4069d8237fae8f2417c71c5512ec1b0547b5597474480cc28ea1bbfeecaab8 b90fdec161ad6ef4378f274a60b900452431533596bf3bd23e01202ebf679461\n"
          ]
        }
      ]
    },
    {
      "cell_type": "code",
      "source": [
        "import subprocess\n",
        "\n",
        "def save_output_to_file(output):\n",
        "    with open(\"SignatureRSZ.txt\", \"a\") as file:\n",
        "        file.write(output)\n",
        "\n",
        "# Number of signatures in a Bitcoin transaction\n",
        "for i in range(32):\n",
        "    process = subprocess.run(\n",
        "        [\"./darksignature\", \"-pubkey\",\n",
        "         \"9b4069d8237fae8f2417c71c5512ec1b0547b5597474480cc28ea1bbfeecaab8\",\n",
        "         \"b90fdec161ad6ef4378f274a60b900452431533596bf3bd23e01202ebf679461\"],\n",
        "        stdout=subprocess.PIPE,\n",
        "        universal_newlines=True\n",
        "    )\n",
        "\n",
        "    output = f\"|ECDSA Signature R,S,Z values from Bitcoin №{i+1}:\\n{process.stdout}\\n\"\n",
        "    print(output)\n",
        "    save_output_to_file(output)"
      ],
      "metadata": {
        "colab": {
          "base_uri": "https://localhost:8080/"
        },
        "id": "mvck2rEDP17q",
        "outputId": "57520005-235c-4e1e-a8cb-4cb34182809b"
      },
      "execution_count": null,
      "outputs": [
        {
          "output_type": "stream",
          "name": "stdout",
          "text": [
            "|ECDSA Signature R,S,Z values from Bitcoin №1:\n",
            "|==========================================================================================================================================================================================================|\n",
            "|pubkey: (Gx , Gy) = (70222300253005455392519146107862087072416435634206217576163089077565234391736, 83705917095121290539357198633726897202627510705815218231038022912173360518241)\n",
            "|===|================ Get ECDSA Signature: <R> value ================|================ Get ECDSA Signature: <S> value ================|================ Get ECDSA Signature: <Z> value ================|===|\n",
            "1111,610d524e475eb60af0830fdbb70843c7d0e6c542aecbc3798f9c7e9da57a438,ff01d0a1e6c4401762352d9381008f5c9c7b8074e525d7de5e44302ef040afa6,20404b2a876caf0ce833cec878fbddac7afe08fbd64c127dad07aacf83334350,0000\n",
            "\n",
            "|ECDSA Signature R,S,Z values from Bitcoin №2:\n",
            "|==========================================================================================================================================================================================================|\n",
            "|pubkey: (Gx , Gy) = (70222300253005455392519146107862087072416435634206217576163089077565234391736, 83705917095121290539357198633726897202627510705815218231038022912173360518241)\n",
            "|===|================ Get ECDSA Signature: <R> value ================|================ Get ECDSA Signature: <S> value ================|================ Get ECDSA Signature: <Z> value ================|===|\n",
            "1111,5ee477adceebb05a0b3c09ffd119581688c5c3cbd626e907a91340b3fdf7e5d8,ffca1ce3bba988432a1e5b2bfa05df1a23cd4a1673b97e0941720ac915ca7987,e4e3e13b7dfa2f22938c6bd20e7cc326c79f5001780ef997a80c4934a792dd4b,0000\n",
            "\n",
            "|ECDSA Signature R,S,Z values from Bitcoin №3:\n",
            "|==========================================================================================================================================================================================================|\n",
            "|pubkey: (Gx , Gy) = (70222300253005455392519146107862087072416435634206217576163089077565234391736, 83705917095121290539357198633726897202627510705815218231038022912173360518241)\n",
            "|===|================ Get ECDSA Signature: <R> value ================|================ Get ECDSA Signature: <S> value ================|================ Get ECDSA Signature: <Z> value ================|===|\n",
            "1111,48e49dbfa65525354965443f9ef7a1f0fe019f01334710b313149fa253393d5,ff41adabaf3dfad6a0bd0cf098846ddd6467ece0c4565e716115c0ad5e069e2,1197637afbd54351a7740eacb307bef8870a118d6e47c1766f8dda870e844abe,0000\n",
            "\n",
            "|ECDSA Signature R,S,Z values from Bitcoin №4:\n",
            "|==========================================================================================================================================================================================================|\n",
            "|pubkey: (Gx , Gy) = (70222300253005455392519146107862087072416435634206217576163089077565234391736, 83705917095121290539357198633726897202627510705815218231038022912173360518241)\n",
            "|===|================ Get ECDSA Signature: <R> value ================|================ Get ECDSA Signature: <S> value ================|================ Get ECDSA Signature: <Z> value ================|===|\n",
            "1111,46aac4416aa130745c4f260ae1d44bd331b749bbd36a6e59b053ee4e3c4bf9d4,ff46e92c3e20854aa95d5fe3dabf2fb95d13feb774d283999df71547bd36c3e1,a1d910ea0b0d2b03db241c237e068541e299bbe727537d6462e74abe39edb050,0000\n",
            "\n",
            "|ECDSA Signature R,S,Z values from Bitcoin №5:\n",
            "|==========================================================================================================================================================================================================|\n",
            "|pubkey: (Gx , Gy) = (70222300253005455392519146107862087072416435634206217576163089077565234391736, 83705917095121290539357198633726897202627510705815218231038022912173360518241)\n",
            "|===|================ Get ECDSA Signature: <R> value ================|================ Get ECDSA Signature: <S> value ================|================ Get ECDSA Signature: <Z> value ================|===|\n",
            "1111,ed926e26d944f9cfec10bb1ebda80ab57aca8fe2874083a6e7ba9045ce07ebac,ff0c7ad328240ed2aff4cd0ba0c47c5c17867ed6033d42ae95182fb3b1a3bd9c,4edcb408400a0ab3930126cbb2f21680d7613caa2459a415ee4cfe788a01b204,0000\n",
            "\n",
            "|ECDSA Signature R,S,Z values from Bitcoin №6:\n",
            "|==========================================================================================================================================================================================================|\n",
            "|pubkey: (Gx , Gy) = (70222300253005455392519146107862087072416435634206217576163089077565234391736, 83705917095121290539357198633726897202627510705815218231038022912173360518241)\n",
            "|===|================ Get ECDSA Signature: <R> value ================|================ Get ECDSA Signature: <S> value ================|================ Get ECDSA Signature: <Z> value ================|===|\n",
            "1111,4de2e79fc29c6c6859543542706fc89ff1d3c35ff7aa4cf1d0491ee16ca7abb9,ff1f867a0e5bf47f3a73a63a8d0731ddd2509c6fb11f3ffbafaa3a68f122b2c8,216bcc2082fe88f7e711026346f32b2631b4170ec5076f5e4013214f2ebd93cb,0000\n",
            "\n",
            "|ECDSA Signature R,S,Z values from Bitcoin №7:\n",
            "|==========================================================================================================================================================================================================|\n",
            "|pubkey: (Gx , Gy) = (70222300253005455392519146107862087072416435634206217576163089077565234391736, 83705917095121290539357198633726897202627510705815218231038022912173360518241)\n",
            "|===|================ Get ECDSA Signature: <R> value ================|================ Get ECDSA Signature: <S> value ================|================ Get ECDSA Signature: <Z> value ================|===|\n",
            "1111,5807f6b97618b76da4ed8d7c05e0abe44f4dc3a83b74f778187adcd21e8a329e,ffb3ec967af8d25381fc2ea8174c93dab1647028916f1bbc25cf164032a07317,ea6c6f4b766d346ac0443442d2d216aceec99b8b9a1fc69dda44893d94a0b6b4,0000\n",
            "\n",
            "|ECDSA Signature R,S,Z values from Bitcoin №8:\n",
            "|==========================================================================================================================================================================================================|\n",
            "|pubkey: (Gx , Gy) = (70222300253005455392519146107862087072416435634206217576163089077565234391736, 83705917095121290539357198633726897202627510705815218231038022912173360518241)\n",
            "|===|================ Get ECDSA Signature: <R> value ================|================ Get ECDSA Signature: <S> value ================|================ Get ECDSA Signature: <Z> value ================|===|\n",
            "1111,22cee3287e54186af5afbf6d7065e76a1d388052729d1122fc840b26d39d92fb,ffac24b2698649f4cee9f76ded9654985e2d891c0c20ba7982ae026340c30436,8ab7660a04d5ef76c45d5f4b64fe0df7ab0215faee8a8e2ba1f9e68ac867e9ce,0000\n",
            "\n",
            "|ECDSA Signature R,S,Z values from Bitcoin №9:\n",
            "|==========================================================================================================================================================================================================|\n",
            "|pubkey: (Gx , Gy) = (70222300253005455392519146107862087072416435634206217576163089077565234391736, 83705917095121290539357198633726897202627510705815218231038022912173360518241)\n",
            "|===|================ Get ECDSA Signature: <R> value ================|================ Get ECDSA Signature: <S> value ================|================ Get ECDSA Signature: <Z> value ================|===|\n",
            "1111,c5eb6122338a4f646e0d41c26cbe51ae3a6c36a4a42b77aadc5a60b1cb617a6e,ff6f09729e746c6467ef74b519ae3c7594ad18b1b9c2615e7aecea2f1615b481,fb777ed39b59990a110a87c47b19a029122b87ec847bc78cf365440515e7084d,0000\n",
            "\n",
            "|ECDSA Signature R,S,Z values from Bitcoin №10:\n",
            "|==========================================================================================================================================================================================================|\n",
            "|pubkey: (Gx , Gy) = (70222300253005455392519146107862087072416435634206217576163089077565234391736, 83705917095121290539357198633726897202627510705815218231038022912173360518241)\n",
            "|===|================ Get ECDSA Signature: <R> value ================|================ Get ECDSA Signature: <S> value ================|================ Get ECDSA Signature: <Z> value ================|===|\n",
            "1111,46425e6ffe81aa2469f4e573b73a181b57c0408d61322792aca77919320273f3,ff0fdb925fe056f8627dc4bad79dd9b5e4f837b9d4d3ff9956773790cd3aa86,3805c08eeb0b8457ac525085f46a96e730cb9bd3fcbad93aede2f9c5ca30e72c,0000\n",
            "\n",
            "|ECDSA Signature R,S,Z values from Bitcoin №11:\n",
            "|==========================================================================================================================================================================================================|\n",
            "|pubkey: (Gx , Gy) = (70222300253005455392519146107862087072416435634206217576163089077565234391736, 83705917095121290539357198633726897202627510705815218231038022912173360518241)\n",
            "|===|================ Get ECDSA Signature: <R> value ================|================ Get ECDSA Signature: <S> value ================|================ Get ECDSA Signature: <Z> value ================|===|\n",
            "1111,d13a8c25e244fc8f4bed75084ec4c046e712118792511213d2d0ac97b57b3315,ff8291583ab537c4c43d9f9f5f634a25fdf3d9b1d9bf1ffda16be97be6445799,a02ab5bbc60ffeca7337100887621ad396a47b27d41b36e53fcd704ceceb0ebf,0000\n",
            "\n",
            "|ECDSA Signature R,S,Z values from Bitcoin №12:\n",
            "|==========================================================================================================================================================================================================|\n",
            "|pubkey: (Gx , Gy) = (70222300253005455392519146107862087072416435634206217576163089077565234391736, 83705917095121290539357198633726897202627510705815218231038022912173360518241)\n",
            "|===|================ Get ECDSA Signature: <R> value ================|================ Get ECDSA Signature: <S> value ================|================ Get ECDSA Signature: <Z> value ================|===|\n",
            "1111,a11522a2ce4eb94d1b2ed81d9ef2efc85e3deb1031b80b69985be04e67fb9b4a,ff7741d7b2485ddc107aa3f87cf66f9728e9b7491e2bb4c35aa5bc2b3ce8a91b,2e415cf193c3bc071d6ef7e8b5041bbb5f104122b1187befd50a65f7148b0d4f,0000\n",
            "\n",
            "|ECDSA Signature R,S,Z values from Bitcoin №13:\n",
            "|==========================================================================================================================================================================================================|\n",
            "|pubkey: (Gx , Gy) = (70222300253005455392519146107862087072416435634206217576163089077565234391736, 83705917095121290539357198633726897202627510705815218231038022912173360518241)\n",
            "|===|================ Get ECDSA Signature: <R> value ================|================ Get ECDSA Signature: <S> value ================|================ Get ECDSA Signature: <Z> value ================|===|\n",
            "1111,ed9deed9c0f793d4ff35cf9c8898f653b0f681791151b2c9a7ce3ad4f6259210,ff58942fd7f408ecfbdbc38cb666b702a27e4270a119a429a6d787ff8ea757f4,5ce52a317f1a526fb62c3261b59c30b981b4a964f9a1dccd91abdf35602923bc,0000\n",
            "\n",
            "|ECDSA Signature R,S,Z values from Bitcoin №14:\n",
            "|==========================================================================================================================================================================================================|\n",
            "|pubkey: (Gx , Gy) = (70222300253005455392519146107862087072416435634206217576163089077565234391736, 83705917095121290539357198633726897202627510705815218231038022912173360518241)\n",
            "|===|================ Get ECDSA Signature: <R> value ================|================ Get ECDSA Signature: <S> value ================|================ Get ECDSA Signature: <Z> value ================|===|\n",
            "1111,24ae3962690cc4b5e6de7f404d0194bdf6fd8776bee0ab9b7d75328576b0cd49,ff03e911db911ad704c3913edc69163b7d2a3be7e52bc2e6c0884da80f855ba1,ed2340c4a039878428aaed19fbb9adf78372527fc53c8c0f875b4735238ce1df,0000\n",
            "\n",
            "|ECDSA Signature R,S,Z values from Bitcoin №15:\n",
            "|==========================================================================================================================================================================================================|\n",
            "|pubkey: (Gx , Gy) = (70222300253005455392519146107862087072416435634206217576163089077565234391736, 83705917095121290539357198633726897202627510705815218231038022912173360518241)\n",
            "|===|================ Get ECDSA Signature: <R> value ================|================ Get ECDSA Signature: <S> value ================|================ Get ECDSA Signature: <Z> value ================|===|\n",
            "1111,5e668570ec1e532d87c92d26f48d8ec384ca090cea598d52d4e66dec8ba10f9a,ff8a7516d6dcd4d158fbb7c7b2b78cf17a14d20955e36a34a9f0abd07d346235,e7e4e223c8a627684800ce0224e31431a2010798d42c144ebf6cb5019508aa38,0000\n",
            "\n",
            "|ECDSA Signature R,S,Z values from Bitcoin №16:\n",
            "|==========================================================================================================================================================================================================|\n",
            "|pubkey: (Gx , Gy) = (70222300253005455392519146107862087072416435634206217576163089077565234391736, 83705917095121290539357198633726897202627510705815218231038022912173360518241)\n",
            "|===|================ Get ECDSA Signature: <R> value ================|================ Get ECDSA Signature: <S> value ================|================ Get ECDSA Signature: <Z> value ================|===|\n",
            "1111,905e5eb9c3a02a271eb6a650f633b02cef7dc8d872cead4ad228b648d8152a6d,fe8f818c59e3febf0e458f2f1da11d9c5be63e061a1f0862c3ddfdb65e94c120,a5b2df22337c49c6548f8090049cdb045ae4def1a71e7aeb7cee3e0c53f28fa3,0000\n",
            "\n",
            "|ECDSA Signature R,S,Z values from Bitcoin №17:\n",
            "|==========================================================================================================================================================================================================|\n",
            "|pubkey: (Gx , Gy) = (70222300253005455392519146107862087072416435634206217576163089077565234391736, 83705917095121290539357198633726897202627510705815218231038022912173360518241)\n",
            "|===|================ Get ECDSA Signature: <R> value ================|================ Get ECDSA Signature: <S> value ================|================ Get ECDSA Signature: <Z> value ================|===|\n",
            "1111,16319becc6af1c84f680d6e2afd92340b974bc4930b74220688ba5679b9a9e2b,ba4acc3725bee9612f801204af16cf7f07ce330569ed75aa9eb2ab440fc1de28,b280ceb5e41045e795908e47dc625ebead37fc86b5f32d97ec78b520cd4869b8,0000\n",
            "\n",
            "|ECDSA Signature R,S,Z values from Bitcoin №18:\n",
            "|==========================================================================================================================================================================================================|\n",
            "|pubkey: (Gx , Gy) = (70222300253005455392519146107862087072416435634206217576163089077565234391736, 83705917095121290539357198633726897202627510705815218231038022912173360518241)\n",
            "|===|================ Get ECDSA Signature: <R> value ================|================ Get ECDSA Signature: <S> value ================|================ Get ECDSA Signature: <Z> value ================|===|\n",
            "1111,71c813b928bbb06a8ee2f9c1175ea461cd50655af32605d9eebe3f6caa5717a2,ae1e8aadee6badafacc5785ae07a985d82123b216e3ac1aa34438b8f835659ff,3a9275b9c662cf8005d35c793afc21d77b35019829fb644d7de413de1475cc98,0000\n",
            "\n",
            "|ECDSA Signature R,S,Z values from Bitcoin №19:\n",
            "|==========================================================================================================================================================================================================|\n",
            "|pubkey: (Gx , Gy) = (70222300253005455392519146107862087072416435634206217576163089077565234391736, 83705917095121290539357198633726897202627510705815218231038022912173360518241)\n",
            "|===|================ Get ECDSA Signature: <R> value ================|================ Get ECDSA Signature: <S> value ================|================ Get ECDSA Signature: <Z> value ================|===|\n",
            "1111,ae9368638e20f0f0046716bbe489c366c554888bf9376e940b49a8a151eaaac2,dc7d7d7bc262c54d82d5b0b5142eb1e1e11f80c109118a9f1863e7a866b79f1f,eefce8e4224cc3010bbf80be700adeea3b5f5b6835b281eb146add4e709ca17b,0000\n",
            "\n",
            "|ECDSA Signature R,S,Z values from Bitcoin №20:\n",
            "|==========================================================================================================================================================================================================|\n",
            "|pubkey: (Gx , Gy) = (70222300253005455392519146107862087072416435634206217576163089077565234391736, 83705917095121290539357198633726897202627510705815218231038022912173360518241)\n",
            "|===|================ Get ECDSA Signature: <R> value ================|================ Get ECDSA Signature: <S> value ================|================ Get ECDSA Signature: <Z> value ================|===|\n",
            "1111,a30e6a598b841dc2a5848b32116e869afcf6fe652b01e52292aa17c3a766e54f,e641887da4db910b295ee42c29b323572d87de30dca94a8b7306c98001a9201a,f961e819c4635a92148a2e2f6c20c6d7eda4d739329f89ebafdb29857b9d5d5,0000\n",
            "\n",
            "|ECDSA Signature R,S,Z values from Bitcoin №21:\n",
            "|==========================================================================================================================================================================================================|\n",
            "|pubkey: (Gx , Gy) = (70222300253005455392519146107862087072416435634206217576163089077565234391736, 83705917095121290539357198633726897202627510705815218231038022912173360518241)\n",
            "|===|================ Get ECDSA Signature: <R> value ================|================ Get ECDSA Signature: <S> value ================|================ Get ECDSA Signature: <Z> value ================|===|\n",
            "1111,5fde42af5820a30eb5bacf4f2017aaa7bc88c92d059eac5e566e4cb8cd906870,afab69277a55922b122136206710cdf90a1d72e7076c1f444d4b509aaf806754,e0a2d9b976a87ed9ffccaeb4a17c7d10fcf8f11ead6064365ee675c26bc2f148,0000\n",
            "\n",
            "|ECDSA Signature R,S,Z values from Bitcoin №22:\n",
            "|==========================================================================================================================================================================================================|\n",
            "|pubkey: (Gx , Gy) = (70222300253005455392519146107862087072416435634206217576163089077565234391736, 83705917095121290539357198633726897202627510705815218231038022912173360518241)\n",
            "|===|================ Get ECDSA Signature: <R> value ================|================ Get ECDSA Signature: <S> value ================|================ Get ECDSA Signature: <Z> value ================|===|\n",
            "1111,288e5db11455d479ae3f6907244470888e459a3e3a332525fa72b34425ad37de,4880b94aaf53a66d53e374a63590922072cabc51cba611e79e81edf0389b0925,60b72f35f573751abaae271965870e7066700f1ec2182838ad757cb663cc3642,0000\n",
            "\n",
            "|ECDSA Signature R,S,Z values from Bitcoin №23:\n",
            "|==========================================================================================================================================================================================================|\n",
            "|pubkey: (Gx , Gy) = (70222300253005455392519146107862087072416435634206217576163089077565234391736, 83705917095121290539357198633726897202627510705815218231038022912173360518241)\n",
            "|===|================ Get ECDSA Signature: <R> value ================|================ Get ECDSA Signature: <S> value ================|================ Get ECDSA Signature: <Z> value ================|===|\n",
            "1111,4e9b7c4eb3013c52f4570782f22d1cf9f7f980e6d099b9e8fdb314f190c19b2b,a0623a24ff675f3166be89fe8b94a39cb5d258373d939a105d546ad822569624,80abbd6e39d3791d73daa856f254cf3dea2e55b12d76d86b9f1142a9f807d460,0000\n",
            "\n",
            "|ECDSA Signature R,S,Z values from Bitcoin №24:\n",
            "|==========================================================================================================================================================================================================|\n",
            "|pubkey: (Gx , Gy) = (70222300253005455392519146107862087072416435634206217576163089077565234391736, 83705917095121290539357198633726897202627510705815218231038022912173360518241)\n",
            "|===|================ Get ECDSA Signature: <R> value ================|================ Get ECDSA Signature: <S> value ================|================ Get ECDSA Signature: <Z> value ================|===|\n",
            "1111,c70fb94c17a480f660c475b7bed88c4e20cb8aad74fb5ebe653fdd5e1c583100,3b9c54b7c9364c24824e8f2caf29773f4fa1cba23b4e3d57089e006c5826a9fe,41301daba254a44ddec02d6fd8bc71a375ae64f601ac9d7500d9e5a0503951f3,0000\n",
            "\n",
            "|ECDSA Signature R,S,Z values from Bitcoin №25:\n",
            "|==========================================================================================================================================================================================================|\n",
            "|pubkey: (Gx , Gy) = (70222300253005455392519146107862087072416435634206217576163089077565234391736, 83705917095121290539357198633726897202627510705815218231038022912173360518241)\n",
            "|===|================ Get ECDSA Signature: <R> value ================|================ Get ECDSA Signature: <S> value ================|================ Get ECDSA Signature: <Z> value ================|===|\n",
            "1111,5e3df9d3e6b9ed0b8a833cd4223cd4cc8a621e7f1a0c8e0dc2e5f6a2cd8613ce,bff72828256efae1e27f626f985536515d674132aa063a99f4a8fa60df5f3e79,317e68f900d8bf4cfa35c9f0f747b9f892d816b3f7f69feed2aed8429b185f51,0000\n",
            "\n",
            "|ECDSA Signature R,S,Z values from Bitcoin №26:\n",
            "|==========================================================================================================================================================================================================|\n",
            "|pubkey: (Gx , Gy) = (70222300253005455392519146107862087072416435634206217576163089077565234391736, 83705917095121290539357198633726897202627510705815218231038022912173360518241)\n",
            "|===|================ Get ECDSA Signature: <R> value ================|================ Get ECDSA Signature: <S> value ================|================ Get ECDSA Signature: <Z> value ================|===|\n",
            "1111,27e142aa23d2f892135cf5de4edfd1e270615e2a6d815df189301bfb7247ed10,d22ca3bcd9591bc90c6517f58559892afb52d74bb5c98f6c1f742a9dfbf25508,e101b4c855bc2d7d01d0c76548c9e5d65560f141c660bbda9f12412789c884ec,0000\n",
            "\n",
            "|ECDSA Signature R,S,Z values from Bitcoin №27:\n",
            "|==========================================================================================================================================================================================================|\n",
            "|pubkey: (Gx , Gy) = (70222300253005455392519146107862087072416435634206217576163089077565234391736, 83705917095121290539357198633726897202627510705815218231038022912173360518241)\n",
            "|===|================ Get ECDSA Signature: <R> value ================|================ Get ECDSA Signature: <S> value ================|================ Get ECDSA Signature: <Z> value ================|===|\n",
            "1111,96425b8dfb8dcc2f48a03c60593d2c1126ef623a02f0dc203b8c906c4dd90fd0,5e7e394f4fc3232ca490bc2e1713e07ba14e98d2bcd6f9253e80fe6b145868de,2eecf7ba909b5ddd6e6ec5f518718123fe0500dce14030d71aa31b01c4505a36,0000\n",
            "\n",
            "|ECDSA Signature R,S,Z values from Bitcoin №28:\n",
            "|==========================================================================================================================================================================================================|\n",
            "|pubkey: (Gx , Gy) = (70222300253005455392519146107862087072416435634206217576163089077565234391736, 83705917095121290539357198633726897202627510705815218231038022912173360518241)\n",
            "|===|================ Get ECDSA Signature: <R> value ================|================ Get ECDSA Signature: <S> value ================|================ Get ECDSA Signature: <Z> value ================|===|\n",
            "1111,29609dd7d0dc71c981f82c3fa0a1ab9a61ecea19460739f83d82881dcddafb44,8c22d7254a2734adb35cf6ef652dd29995eb9a8511d74dcf040435816bcaea1c,c27e46aa5ea9deee83dbac1d0bd370b203be3865bb75c59b03b4d3ecfd4f4ed8,0000\n",
            "\n",
            "|ECDSA Signature R,S,Z values from Bitcoin №29:\n",
            "|==========================================================================================================================================================================================================|\n",
            "|pubkey: (Gx , Gy) = (70222300253005455392519146107862087072416435634206217576163089077565234391736, 83705917095121290539357198633726897202627510705815218231038022912173360518241)\n",
            "|===|================ Get ECDSA Signature: <R> value ================|================ Get ECDSA Signature: <S> value ================|================ Get ECDSA Signature: <Z> value ================|===|\n",
            "1111,1d7b0b152fcc2936b4d0f1ddb16f2ed2044739a2b3c0e11defe83c9f806e9746,d04ed086b54151ef8e136cd4686d2b71763796289f6a35a1f1d2cc45a9c529e4,8ca20e5b570c3a63b3208a771a3e7ab2686e41366fee4b4e4d2f8e539f22ba01,0000\n",
            "\n",
            "|ECDSA Signature R,S,Z values from Bitcoin №30:\n",
            "|==========================================================================================================================================================================================================|\n",
            "|pubkey: (Gx , Gy) = (70222300253005455392519146107862087072416435634206217576163089077565234391736, 83705917095121290539357198633726897202627510705815218231038022912173360518241)\n",
            "|===|================ Get ECDSA Signature: <R> value ================|================ Get ECDSA Signature: <S> value ================|================ Get ECDSA Signature: <Z> value ================|===|\n",
            "1111,1714e8c9d99c3239c774b3e2397525612c16e5f01c3e5641b3c600526aa4d235,36bd717625115799ad935f4a164b81c68a18daaf4dfc3f4ca76aaf8b79fe993b,c8d4b22258408eac1690a5254e839917627ed6d49f11873fdf4dbfecca7cc139,0000\n",
            "\n",
            "|ECDSA Signature R,S,Z values from Bitcoin №31:\n",
            "|==========================================================================================================================================================================================================|\n",
            "|pubkey: (Gx , Gy) = (70222300253005455392519146107862087072416435634206217576163089077565234391736, 83705917095121290539357198633726897202627510705815218231038022912173360518241)\n",
            "|===|================ Get ECDSA Signature: <R> value ================|================ Get ECDSA Signature: <S> value ================|================ Get ECDSA Signature: <Z> value ================|===|\n",
            "1111,c52f83cdca847ae23a6046c1fe60f769a1a4de14e0cced86d87cbcb33b59d20b,417b8a79fa8fed07a23248c909ed6f7f6f44db74295fdd12b75d200d853fa9a3,c12f140e4af7d16c8c60142cbf6746c9b5b188332dcb3c435e5e6d42bce05d7,0000\n",
            "\n",
            "|ECDSA Signature R,S,Z values from Bitcoin №32:\n",
            "|==========================================================================================================================================================================================================|\n",
            "|pubkey: (Gx , Gy) = (70222300253005455392519146107862087072416435634206217576163089077565234391736, 83705917095121290539357198633726897202627510705815218231038022912173360518241)\n",
            "|===|================ Get ECDSA Signature: <R> value ================|================ Get ECDSA Signature: <S> value ================|================ Get ECDSA Signature: <Z> value ================|===|\n",
            "1111,10e2d994b00e6ac349fb9b4eb9ef9fcabace709f0670a95a952e12dbdc8d6dd1,41167a6040461a32342bf765a2a306333f16b88326fad67f474afa997661a6e3,a8314585b09c93c39edd467aa4d5306a8fbc27891a0428b2ed5cee847c49eb0d,0000\n"
          ]
        }
      ]
    },
    {
      "cell_type": "code",
      "source": [
        "!sudo apt-get install sagemath python3-ecdsa"
      ],
      "metadata": {
        "id": "u81c4qBJSjZ8"
      },
      "execution_count": null,
      "outputs": []
    },
    {
      "cell_type": "code",
      "source": [
        "!wget https://raw.githubusercontent.com/demining/CryptoDeepTools/refs/heads/main/36SignatureMalleability/latticereductions.py\n",
        "!wget https://raw.githubusercontent.com/demining/CryptoDeepTools/refs/heads/main/36SignatureMalleability/Ricci_Flow_Hidden_Number_Problem.txt"
      ],
      "metadata": {
        "colab": {
          "base_uri": "https://localhost:8080/"
        },
        "id": "rRLznPI1U9lX",
        "outputId": "b08095b8-cd33-49fb-dd7b-df3f6e5d7dd1"
      },
      "execution_count": null,
      "outputs": [
        {
          "output_type": "stream",
          "name": "stdout",
          "text": [
            "--2024-11-22 14:43:24--  https://raw.githubusercontent.com/demining/CryptoDeepTools/refs/heads/main/36SignatureMalleability/latticereductions.py\n",
            "Resolving raw.githubusercontent.com (raw.githubusercontent.com)... 185.199.111.133, 185.199.108.133, 185.199.109.133, ...\n",
            "Connecting to raw.githubusercontent.com (raw.githubusercontent.com)|185.199.111.133|:443... connected.\n",
            "HTTP request sent, awaiting response... 200 OK\n",
            "Length: 2995 (2.9K) [text/plain]\n",
            "Saving to: ‘latticereductions.py’\n",
            "\n",
            "\rlatticereductions.p   0%[                    ]       0  --.-KB/s               \rlatticereductions.p 100%[===================>]   2.92K  --.-KB/s    in 0s      \n",
            "\n",
            "2024-11-22 14:43:24 (34.3 MB/s) - ‘latticereductions.py’ saved [2995/2995]\n",
            "\n",
            "--2024-11-22 14:43:24--  https://raw.githubusercontent.com/demining/CryptoDeepTools/refs/heads/main/36SignatureMalleability/Ricci_Flow_Hidden_Number_Problem.txt\n",
            "Resolving raw.githubusercontent.com (raw.githubusercontent.com)... 185.199.108.133, 185.199.109.133, 185.199.110.133, ...\n",
            "Connecting to raw.githubusercontent.com (raw.githubusercontent.com)|185.199.108.133|:443... connected.\n",
            "HTTP request sent, awaiting response... 200 OK\n",
            "Length: 6588 (6.4K) [text/plain]\n",
            "Saving to: ‘Ricci_Flow_Hidden_Number_Problem.txt’\n",
            "\n",
            "Ricci_Flow_Hidden_N 100%[===================>]   6.43K  --.-KB/s    in 0s      \n",
            "\n",
            "2024-11-22 14:43:24 (48.0 MB/s) - ‘Ricci_Flow_Hidden_Number_Problem.txt’ saved [6588/6588]\n",
            "\n"
          ]
        }
      ]
    },
    {
      "cell_type": "code",
      "source": [
        "!cat Ricci_Flow_Hidden_Number_Problem.txt > nonces.csv\n",
        "!python latticereductions.py nonces.csv 243 32"
      ],
      "metadata": {
        "colab": {
          "base_uri": "https://localhost:8080/"
        },
        "id": "maiEesrrVDrm",
        "outputId": "be853ff4-95d4-484f-c7a1-7d76bac55995"
      },
      "execution_count": null,
      "outputs": [
        {
          "output_type": "stream",
          "name": "stdout",
          "text": [
            "Using: 32 sigs...\n",
            "9c46f04bc965af22d060a1e8ceb4a07dff1aee8f4664262df69e4e3a5300a559\n",
            "17e96966f15a56993e13f8c19ce34a99111ad768a051d9febc24b6d48cae1951\n",
            "96acea2855a8c6f68374c4f462ee05f86bc3c783400ddfa935ac82c8ae55da7f\n",
            "3629bb0c0ccb353fc58a1cbcb1da162a73bdf93ac931bbdff051d2684cba1cfc\n",
            "bd3988a41f4c2baba15bd43e47dd0cb9b6a60eafe7716902c3e6a6604302c396\n",
            "abf43f1a88a5a316e31f2a6a28d3b2d36fcf8098bedd42bd0595dc4a1e0330d6\n",
            "db9a096cf45f75877293e3f1a0f2de876c9f57b85a617976cf74010b0501e5f6\n",
            "6a41d40df910881704cc96b54099376c82b18de162c8b811e2d763c71a0aa01d\n",
            "ca119e1066adbadada6ae7e996df160f85fcdbadc684ef71d400a6f354f8cf9b\n",
            "bf1f534c383de9cea2cc13b87b42ff28fc6f9b5f56bb82d898b4491b8e666c9b\n",
            "c8f96cca0ef23b5a38072e1a3701b8b14262fc50725c5db8a68c5634e352c758\n",
            "0466d70a46c5bd5d38704593f589e3e4dee5dbc3b81d3576e615c0ef8667a38d\n",
            "65466d7bff2600171f33e3a9a0bbc8fbc9cbe5584a8f23686e1e67b8d8f5c6a2\n",
            "08d9cbeab654217ad5f7e920fd39911c06cea53968c35d840598ad81a40c7d7d\n",
            "d5afb155f898871d02cad5dd857479fb805e193d67ccfd32f2aa68bcfe7a8fbe\n",
            "3b404312ac483eb8f4a83101c14c7037cb459bb5ffe9cb5dae7a44951cd613f5\n",
            "9ca4d456f0e2e82928b8ba12015d2da789bf3b477917019610bf3613fe099840\n",
            "961ccbfc861f0e29007b4832758517967a762bbd6325c89210836181ce4565cf\n",
            "8b3dc5b37452d9b9209b90de5186c0d27016cebc49a8de87060a344795996e6f\n",
            "f6c1e9233a5d078e892e60eed60e662805e93f977708a099aec6800fd18c8c33\n",
            "4350a4a863ca88b1fa9e3c9957050b1ce2812e22820c6753bcae442533c6b226\n",
            "51bb5e88c0ad9d3859eba4f2c36ce6069ec3eb5712ba4f4022b955e87ff44c4b\n",
            "d1a1093ca70e4901a87f3411134ba6e13fbed87a9707ba231e2d00b78f4200f5\n",
            "6cb64ec5f62d9413d9c947a39db69995d82f35c69d5727f2ccfe41640cf70ea6\n",
            "c260082a371e9fbf6a6ddbcc141079a694a1ae8a9f2f0852935ae45256529c7a\n",
            "ab8050a788e304f591590f47cd61f5dab084034999f26696e24886bc0bbd614d\n",
            "5996611fe80c7b5ad375e54776bdee8a3781290281ef4b21de7355f8daa05ee5\n",
            "478a8abec7dea0bedcb833f027a2df35c76df0a75681da171a02fe89895698b5\n",
            "e4d15f67489f43fe7dc3e080c45353c71d8e629c68e110a413d4d93006f428b7\n",
            "ea8a668f948f1af66e7a00b1e903ef9b5136a684f5a1b9010480f30cb28cf81e\n",
            "4323f64827e6aba4147ec3ae396113966f773b3f4ce349f307fccd45fee13486\n",
            "dbba97689546e32c2ca475ca7613c807ffde0064dbee2b5a3d752faca133d442\n",
            "a59cf07f42836d4c00291d7f03be989f999dcc17ce23b667ddbb202473d1c224\n"
          ]
        }
      ]
    },
    {
      "cell_type": "code",
      "source": [
        "!pip install bitcoin"
      ],
      "metadata": {
        "colab": {
          "base_uri": "https://localhost:8080/"
        },
        "id": "yxqChxipVKtl",
        "outputId": "1c810d62-4602-462e-876c-942d65fbeb49"
      },
      "execution_count": null,
      "outputs": [
        {
          "output_type": "stream",
          "name": "stdout",
          "text": [
            "Collecting bitcoin\n",
            "  Downloading bitcoin-1.1.42.tar.gz (36 kB)\n",
            "  Preparing metadata (setup.py) ... \u001b[?25l\u001b[?25hdone\n",
            "Building wheels for collected packages: bitcoin\n",
            "  Building wheel for bitcoin (setup.py) ... \u001b[?25l\u001b[?25hdone\n",
            "  Created wheel for bitcoin: filename=bitcoin-1.1.42-py3-none-any.whl size=44403 sha256=4b045cabd01e540b44072544daba7f88805a3910a2e80d9f1f1c1061e3ec5d52\n",
            "  Stored in directory: /root/.cache/pip/wheels/a3/98/a1/0d53f5b714680bb5dffc2db778c221b1f5c54bc4a3a779c8c5\n",
            "Successfully built bitcoin\n",
            "Installing collected packages: bitcoin\n",
            "Successfully installed bitcoin-1.1.42\n"
          ]
        }
      ]
    },
    {
      "cell_type": "code",
      "source": [
        "from bitcoin import *\n",
        "import sys\n",
        "import re\n",
        "import json\n",
        "from time import sleep\n",
        "\n",
        "try:    # if is python3\n",
        "    from urllib.request import urlopen\n",
        "except: # if is python2\n",
        "    from urllib2 import urlopen\n",
        "\n",
        "def get_address_from_private_key(private_key_wif):\n",
        "    # decode WIF private key\n",
        "    private_key = decode_privkey(private_key_wif)\n",
        "\n",
        "    # get the public key from the private one\n",
        "    public_key = privtopub(private_key)\n",
        "\n",
        "    # get bitcoin address from public key\n",
        "    address = pubtoaddr(public_key)\n",
        "\n",
        "    return address\n",
        "\n",
        "def check_balance(address):\n",
        "\n",
        "    #Modify the value of the variable below to False if you do not want Bell Sound when the Software finds balance.\n",
        "    SONG_BELL = True\n",
        "\n",
        "    #Add time different of 0 if you need more security on the checks\n",
        "    WARN_WAIT_TIME = 0\n",
        "\n",
        "    blockchain_tags_json = [\n",
        "        'total_received',\n",
        "        ]\n",
        "\n",
        "    SATOSHIS_PER_BTC = 1e+8\n",
        "\n",
        "    check_address = address\n",
        "\n",
        "    parse_address_structure = re.match(r' *([a-zA-Z1-9]{1,34})', check_address)\n",
        "    if ( parse_address_structure is not None ):\n",
        "        check_address = parse_address_structure.group(1)\n",
        "    else:\n",
        "        #print( \"\\nThis Bitcoin Address is invalid\" + check_address )\n",
        "        exit(1)\n",
        "\n",
        "    #Read info from Blockchain about the Address\n",
        "    reading_state=1\n",
        "    while (reading_state):\n",
        "        try:\n",
        "            htmlfile = urlopen(\"https://blockchain.info/address/%s?format=json\" % check_address, timeout = 10)\n",
        "            htmltext = htmlfile.read().decode('utf-8')\n",
        "            reading_state  = 0\n",
        "        except:\n",
        "            reading_state+=1\n",
        "            print( \"Checking... \" + str(reading_state) )\n",
        "            sleep(60*reading_state)\n",
        "\n",
        "    #print( \"\\nBitcoin Address = \" + check_address )\n",
        "\n",
        "    blockchain_info_array = []\n",
        "    tag = ''\n",
        "    try:\n",
        "        for tag in blockchain_tags_json:\n",
        "            blockchain_info_array.append (\n",
        "                float( re.search( r'%s\":(\\d+),' % tag, htmltext ).group(1) ) )\n",
        "    except:\n",
        "        print( \"Error '%s'.\" % tag );\n",
        "        exit(1)\n",
        "\n",
        "    for i, btc_tokens in enumerate(blockchain_info_array):\n",
        "\n",
        "        sys.stdout.write (\"%s \\t= \" % blockchain_tags_json[i])\n",
        "        if btc_tokens > 0.0:\n",
        "            print( \"%.8f Bitcoin\" % (btc_tokens/SATOSHIS_PER_BTC) );\n",
        "        else:\n",
        "            print( \"0 Bitcoin\" );\n",
        "\n",
        "        if (SONG_BELL and blockchain_tags_json[i] == 'final_balance' and btc_tokens > 0.0):\n",
        "\n",
        "            #If you have a balance greater than 0 you will hear the bell\n",
        "            sys.stdout.write ('\\a\\a\\a')\n",
        "            sys.stdout.flush()\n",
        "\n",
        "            with open('balance.json', 'a') as arq1:\n",
        "                arq1.write(\"Bitcoin Address: %s\" % check_address)\n",
        "                arq1.write(\"\\t Balance: %.8f Bitcoin\" % (btc_tokens/SATOSHIS_PER_BTC))\n",
        "                arq1.write(\"\\n\")\n",
        "\n",
        "            if (WARN_WAIT_TIME > 0):\n",
        "                sleep(WARN_WAIT_TIME)\n",
        "\n",
        "# enter your private key in WIF format\n",
        "private_key_wif = \"17e96966f15a56993e13f8c19ce34a99111ad768a051d9febc24b6d48cae1951\"\n",
        "\n",
        "# get bitcoin address\n",
        "bitcoin_address = get_address_from_private_key(private_key_wif)\n",
        "print (\"__________________________________________________\\n\")\n",
        "print(f\"Private Key WIF: {private_key_wif}\")\n",
        "print(f\"Bitcoin Address: {bitcoin_address}\")\n",
        "\n",
        "check_balance(bitcoin_address)\n",
        "print (\"__________________________________________________\\n\")"
      ],
      "metadata": {
        "colab": {
          "base_uri": "https://localhost:8080/"
        },
        "id": "JgpYgv7dVSM6",
        "outputId": "6f4ba010-3b87-4cc5-f36b-305a3a413fc4"
      },
      "execution_count": null,
      "outputs": [
        {
          "output_type": "stream",
          "name": "stdout",
          "text": [
            "__________________________________________________\n",
            "\n",
            "Private Key WIF: 17e96966f15a56993e13f8c19ce34a99111ad768a051d9febc24b6d48cae1951\n",
            "Bitcoin Address: 1LeEbwu667oPtQC5dKiGiysUjFM3mQaxpw\n",
            "total_received \t= 21.25292140 Bitcoin\n",
            "__________________________________________________\n",
            "\n"
          ]
        }
      ]
    },
    {
      "cell_type": "code",
      "source": [],
      "metadata": {
        "colab": {
          "base_uri": "https://localhost:8080/",
          "height": 336
        },
        "id": "-3bXmP3tOFmC",
        "outputId": "abccc208-b33d-4b1e-ffed-3f0e0e64f011"
      },
      "execution_count": null,
      "outputs": [
        {
          "output_type": "execute_result",
          "data": {
            "text/plain": [
              "<IPython.core.display.HTML object>"
            ],
            "text/html": [
              "\n",
              "<iframe width=\"560\" height=\"315\" src=\"https://www.youtube.com/embed/wf6QwCpP3oc\" frameborder=\"0\" allowfullscreen></iframe>\n"
            ]
          },
          "metadata": {},
          "execution_count": 1
        }
      ]
    },
    {
      "cell_type": "markdown",
      "source": [
        "\n",
        "---\n",
        "\n",
        "\n",
        "\n",
        "# Telegram: https://t.me/cryptodeeptech\n",
        "\n",
        "# YouTube: https://www.youtube.com/@cryptodeeptech\n",
        "\n",
        "# Publication: https://cryptodeeptech.ru/signature-malleability\n",
        "\n",
        "\n",
        "\n",
        "---"
      ],
      "metadata": {
        "id": "TUhyApwAOPWp"
      }
    }
  ]
}